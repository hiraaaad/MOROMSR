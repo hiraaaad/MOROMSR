{
 "cells": [
  {
   "cell_type": "markdown",
   "metadata": {
    "pycharm": {
     "name": "#%% md\n"
    }
   },
   "source": [
    "Packages required for running this code are:\n",
    "- Numpy\n",
    "- Numba\n",
    "- Pandas\n",
    "- NetworkX"
   ]
  },
  {
   "cell_type": "code",
   "source": [
    "from mmas import MMAS\n",
    "from problem import Problem"
   ],
   "metadata": {
    "collapsed": false,
    "pycharm": {
     "name": "#%%\n"
    }
   },
   "execution_count": 19,
   "outputs": []
  },
  {
   "cell_type": "markdown",
   "source": [
    "parameters:\n",
    "scenario : int\n",
    "number_demand: int\n",
    "number_stockpile: int\n",
    "greedy_factor : float\n",
    "parcel : bool\n",
    "local : bool"
   ],
   "metadata": {
    "collapsed": false
   }
  },
  {
   "cell_type": "markdown",
   "metadata": {
    "pycharm": {
     "name": "#%% md\n"
    }
   },
   "source": []
  },
  {
   "cell_type": "code",
   "execution_count": 20,
   "outputs": [],
   "source": [
    "# for example:\n",
    "scenario = 1\n",
    "number_demand = 3\n",
    "number_stockpile = 4\n",
    "greedy_factor = 0.5\n",
    "parcel = True\n",
    "local = True\n",
    "problem = Problem(scenario= scenario, number_demand= number_demand, number_stockpile= number_stockpile, greedy_factor= greedy_factor,\n",
    "                  parcel=parcel, local=local)\n",
    "alg = MMAS(problem=problem)\n"
   ],
   "metadata": {
    "collapsed": false,
    "pycharm": {
     "name": "#%%\n"
    }
   }
  },
  {
   "cell_type": "code",
   "execution_count": null,
   "metadata": {
    "pycharm": {
     "name": "#%%\n",
     "is_executing": true
    }
   },
   "outputs": [
    {
     "name": "stdout",
     "output_type": "stream",
     "text": [
      "Generation: 0 - Best-solution: [119.9559   0.       0.    ]\n"
     ]
    }
   ],
   "source": [
    "alg.evolve()"
   ]
  },
  {
   "cell_type": "code",
   "execution_count": null,
   "metadata": {
    "pycharm": {
     "name": "#%%\n"
    }
   },
   "outputs": [],
   "source": []
  }
 ],
 "metadata": {
  "kernelspec": {
   "display_name": "Python 3 (ipykernel)",
   "language": "python",
   "name": "python3"
  },
  "language_info": {
   "codemirror_mode": {
    "name": "ipython",
    "version": 3
   },
   "file_extension": ".py",
   "mimetype": "text/x-python",
   "name": "python",
   "nbconvert_exporter": "python",
   "pygments_lexer": "ipython3",
   "version": "3.10.0"
  }
 },
 "nbformat": 4,
 "nbformat_minor": 1
}